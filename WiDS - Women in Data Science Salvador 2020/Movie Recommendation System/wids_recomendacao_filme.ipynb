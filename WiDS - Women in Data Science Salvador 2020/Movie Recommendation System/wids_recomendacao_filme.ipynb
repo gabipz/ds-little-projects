{
 "cells": [
  {
   "cell_type": "markdown",
   "metadata": {},
   "source": [
    "## Importing modules"
   ]
  },
  {
   "cell_type": "code",
   "execution_count": 1,
   "metadata": {},
   "outputs": [],
   "source": [
    "import pandas as pd\n",
    "import numpy as np\n",
    "from math import sqrt"
   ]
  },
  {
   "cell_type": "markdown",
   "metadata": {},
   "source": [
    "#### 0 - Explorando os dados"
   ]
  },
  {
   "cell_type": "code",
   "execution_count": 3,
   "metadata": {},
   "outputs": [
    {
     "data": {
      "text/html": [
       "<div>\n",
       "<style scoped>\n",
       "    .dataframe tbody tr th:only-of-type {\n",
       "        vertical-align: middle;\n",
       "    }\n",
       "\n",
       "    .dataframe tbody tr th {\n",
       "        vertical-align: top;\n",
       "    }\n",
       "\n",
       "    .dataframe thead th {\n",
       "        text-align: right;\n",
       "    }\n",
       "</style>\n",
       "<table border=\"1\" class=\"dataframe\">\n",
       "  <thead>\n",
       "    <tr style=\"text-align: right;\">\n",
       "      <th></th>\n",
       "      <th>movieId</th>\n",
       "      <th>title</th>\n",
       "      <th>genres</th>\n",
       "    </tr>\n",
       "  </thead>\n",
       "  <tbody>\n",
       "    <tr>\n",
       "      <td>0</td>\n",
       "      <td>1</td>\n",
       "      <td>Toy Story (1995)</td>\n",
       "      <td>Adventure|Animation|Children|Comedy|Fantasy</td>\n",
       "    </tr>\n",
       "    <tr>\n",
       "      <td>1</td>\n",
       "      <td>2</td>\n",
       "      <td>Jumanji (1995)</td>\n",
       "      <td>Adventure|Children|Fantasy</td>\n",
       "    </tr>\n",
       "    <tr>\n",
       "      <td>2</td>\n",
       "      <td>3</td>\n",
       "      <td>Grumpier Old Men (1995)</td>\n",
       "      <td>Comedy|Romance</td>\n",
       "    </tr>\n",
       "    <tr>\n",
       "      <td>3</td>\n",
       "      <td>4</td>\n",
       "      <td>Waiting to Exhale (1995)</td>\n",
       "      <td>Comedy|Drama|Romance</td>\n",
       "    </tr>\n",
       "    <tr>\n",
       "      <td>4</td>\n",
       "      <td>5</td>\n",
       "      <td>Father of the Bride Part II (1995)</td>\n",
       "      <td>Comedy</td>\n",
       "    </tr>\n",
       "  </tbody>\n",
       "</table>\n",
       "</div>"
      ],
      "text/plain": [
       "   movieId                               title  \\\n",
       "0        1                    Toy Story (1995)   \n",
       "1        2                      Jumanji (1995)   \n",
       "2        3             Grumpier Old Men (1995)   \n",
       "3        4            Waiting to Exhale (1995)   \n",
       "4        5  Father of the Bride Part II (1995)   \n",
       "\n",
       "                                        genres  \n",
       "0  Adventure|Animation|Children|Comedy|Fantasy  \n",
       "1                   Adventure|Children|Fantasy  \n",
       "2                               Comedy|Romance  \n",
       "3                         Comedy|Drama|Romance  \n",
       "4                                       Comedy  "
      ]
     },
     "execution_count": 3,
     "metadata": {},
     "output_type": "execute_result"
    }
   ],
   "source": [
    "filmes = pd.read_csv('movies.csv')\n",
    "filmes.head()"
   ]
  },
  {
   "cell_type": "code",
   "execution_count": 4,
   "metadata": {},
   "outputs": [
    {
     "data": {
      "text/html": [
       "<div>\n",
       "<style scoped>\n",
       "    .dataframe tbody tr th:only-of-type {\n",
       "        vertical-align: middle;\n",
       "    }\n",
       "\n",
       "    .dataframe tbody tr th {\n",
       "        vertical-align: top;\n",
       "    }\n",
       "\n",
       "    .dataframe thead th {\n",
       "        text-align: right;\n",
       "    }\n",
       "</style>\n",
       "<table border=\"1\" class=\"dataframe\">\n",
       "  <thead>\n",
       "    <tr style=\"text-align: right;\">\n",
       "      <th></th>\n",
       "      <th>id_filme</th>\n",
       "      <th>titulo</th>\n",
       "    </tr>\n",
       "  </thead>\n",
       "  <tbody>\n",
       "    <tr>\n",
       "      <td>0</td>\n",
       "      <td>1</td>\n",
       "      <td>Toy Story (1995)</td>\n",
       "    </tr>\n",
       "    <tr>\n",
       "      <td>1</td>\n",
       "      <td>2</td>\n",
       "      <td>Jumanji (1995)</td>\n",
       "    </tr>\n",
       "    <tr>\n",
       "      <td>2</td>\n",
       "      <td>3</td>\n",
       "      <td>Grumpier Old Men (1995)</td>\n",
       "    </tr>\n",
       "    <tr>\n",
       "      <td>3</td>\n",
       "      <td>4</td>\n",
       "      <td>Waiting to Exhale (1995)</td>\n",
       "    </tr>\n",
       "    <tr>\n",
       "      <td>4</td>\n",
       "      <td>5</td>\n",
       "      <td>Father of the Bride Part II (1995)</td>\n",
       "    </tr>\n",
       "    <tr>\n",
       "      <td>...</td>\n",
       "      <td>...</td>\n",
       "      <td>...</td>\n",
       "    </tr>\n",
       "    <tr>\n",
       "      <td>9737</td>\n",
       "      <td>193581</td>\n",
       "      <td>Black Butler: Book of the Atlantic (2017)</td>\n",
       "    </tr>\n",
       "    <tr>\n",
       "      <td>9738</td>\n",
       "      <td>193583</td>\n",
       "      <td>No Game No Life: Zero (2017)</td>\n",
       "    </tr>\n",
       "    <tr>\n",
       "      <td>9739</td>\n",
       "      <td>193585</td>\n",
       "      <td>Flint (2017)</td>\n",
       "    </tr>\n",
       "    <tr>\n",
       "      <td>9740</td>\n",
       "      <td>193587</td>\n",
       "      <td>Bungo Stray Dogs: Dead Apple (2018)</td>\n",
       "    </tr>\n",
       "    <tr>\n",
       "      <td>9741</td>\n",
       "      <td>193609</td>\n",
       "      <td>Andrew Dice Clay: Dice Rules (1991)</td>\n",
       "    </tr>\n",
       "  </tbody>\n",
       "</table>\n",
       "<p>9742 rows × 2 columns</p>\n",
       "</div>"
      ],
      "text/plain": [
       "      id_filme                                     titulo\n",
       "0            1                           Toy Story (1995)\n",
       "1            2                             Jumanji (1995)\n",
       "2            3                    Grumpier Old Men (1995)\n",
       "3            4                   Waiting to Exhale (1995)\n",
       "4            5         Father of the Bride Part II (1995)\n",
       "...        ...                                        ...\n",
       "9737    193581  Black Butler: Book of the Atlantic (2017)\n",
       "9738    193583               No Game No Life: Zero (2017)\n",
       "9739    193585                               Flint (2017)\n",
       "9740    193587        Bungo Stray Dogs: Dead Apple (2018)\n",
       "9741    193609        Andrew Dice Clay: Dice Rules (1991)\n",
       "\n",
       "[9742 rows x 2 columns]"
      ]
     },
     "execution_count": 4,
     "metadata": {},
     "output_type": "execute_result"
    }
   ],
   "source": [
    "filmes = filmes[['movieId', 'title']]\n",
    "filmes.columns = ['id_filme', 'titulo']\n",
    "filmes"
   ]
  },
  {
   "cell_type": "code",
   "execution_count": 5,
   "metadata": {},
   "outputs": [
    {
     "data": {
      "text/plain": [
       "Eros (2004)                               2\n",
       "Emma (1996)                               2\n",
       "Confessions of a Dangerous Mind (2002)    2\n",
       "War of the Worlds (2005)                  2\n",
       "Saturn 3 (1980)                           2\n",
       "                                         ..\n",
       "Topo, El (1970)                           1\n",
       "The Great Hypnotist (2014)                1\n",
       "Verdict, The (1982)                       1\n",
       "Jackass Number Two (2006)                 1\n",
       "Quantum of Solace (2008)                  1\n",
       "Name: titulo, Length: 9737, dtype: int64"
      ]
     },
     "execution_count": 5,
     "metadata": {},
     "output_type": "execute_result"
    }
   ],
   "source": [
    "# alguns filmes com ids diferente\n",
    "filmes.titulo.value_counts() "
   ]
  },
  {
   "cell_type": "code",
   "execution_count": 6,
   "metadata": {},
   "outputs": [
    {
     "data": {
      "text/plain": [
       "9737"
      ]
     },
     "execution_count": 6,
     "metadata": {},
     "output_type": "execute_result"
    }
   ],
   "source": [
    "# numero de filmes na base\n",
    "filmes.titulo.unique().shape[0]"
   ]
  },
  {
   "cell_type": "code",
   "execution_count": 9,
   "metadata": {},
   "outputs": [],
   "source": [
    "lista_filmes = ['Toy Story (1995)', 'Lord of the Rings: The Fellowship of the Ring, The (2001)', 'Mortal Kombat (1995)','Pocahontas (1995)','Star Wars: Episode VI - Return of the Jedi (1983)','Brazil (1985)', 'Star Wars: Episode V - The Empire Strikes Back (1980)']"
   ]
  },
  {
   "cell_type": "code",
   "execution_count": 10,
   "metadata": {},
   "outputs": [
    {
     "data": {
      "text/html": [
       "<div>\n",
       "<style scoped>\n",
       "    .dataframe tbody tr th:only-of-type {\n",
       "        vertical-align: middle;\n",
       "    }\n",
       "\n",
       "    .dataframe tbody tr th {\n",
       "        vertical-align: top;\n",
       "    }\n",
       "\n",
       "    .dataframe thead th {\n",
       "        text-align: right;\n",
       "    }\n",
       "</style>\n",
       "<table border=\"1\" class=\"dataframe\">\n",
       "  <thead>\n",
       "    <tr style=\"text-align: right;\">\n",
       "      <th></th>\n",
       "      <th>id_filme</th>\n",
       "      <th>titulo</th>\n",
       "    </tr>\n",
       "  </thead>\n",
       "  <tbody>\n",
       "    <tr>\n",
       "      <td>0</td>\n",
       "      <td>1</td>\n",
       "      <td>Toy Story (1995)</td>\n",
       "    </tr>\n",
       "    <tr>\n",
       "      <td>40</td>\n",
       "      <td>44</td>\n",
       "      <td>Mortal Kombat (1995)</td>\n",
       "    </tr>\n",
       "    <tr>\n",
       "      <td>44</td>\n",
       "      <td>48</td>\n",
       "      <td>Pocahontas (1995)</td>\n",
       "    </tr>\n",
       "    <tr>\n",
       "      <td>898</td>\n",
       "      <td>1196</td>\n",
       "      <td>Star Wars: Episode V - The Empire Strikes Back...</td>\n",
       "    </tr>\n",
       "    <tr>\n",
       "      <td>901</td>\n",
       "      <td>1199</td>\n",
       "      <td>Brazil (1985)</td>\n",
       "    </tr>\n",
       "    <tr>\n",
       "      <td>911</td>\n",
       "      <td>1210</td>\n",
       "      <td>Star Wars: Episode VI - Return of the Jedi (1983)</td>\n",
       "    </tr>\n",
       "    <tr>\n",
       "      <td>3638</td>\n",
       "      <td>4993</td>\n",
       "      <td>Lord of the Rings: The Fellowship of the Ring,...</td>\n",
       "    </tr>\n",
       "  </tbody>\n",
       "</table>\n",
       "</div>"
      ],
      "text/plain": [
       "      id_filme                                             titulo\n",
       "0            1                                   Toy Story (1995)\n",
       "40          44                               Mortal Kombat (1995)\n",
       "44          48                                  Pocahontas (1995)\n",
       "898       1196  Star Wars: Episode V - The Empire Strikes Back...\n",
       "901       1199                                      Brazil (1985)\n",
       "911       1210  Star Wars: Episode VI - Return of the Jedi (1983)\n",
       "3638      4993  Lord of the Rings: The Fellowship of the Ring,..."
      ]
     },
     "execution_count": 10,
     "metadata": {},
     "output_type": "execute_result"
    }
   ],
   "source": [
    "filmes = filmes.loc[filmes.titulo.isin(lista_filmes)]\n",
    "filmes"
   ]
  },
  {
   "cell_type": "code",
   "execution_count": 12,
   "metadata": {},
   "outputs": [
    {
     "data": {
      "text/html": [
       "<div>\n",
       "<style scoped>\n",
       "    .dataframe tbody tr th:only-of-type {\n",
       "        vertical-align: middle;\n",
       "    }\n",
       "\n",
       "    .dataframe tbody tr th {\n",
       "        vertical-align: top;\n",
       "    }\n",
       "\n",
       "    .dataframe thead th {\n",
       "        text-align: right;\n",
       "    }\n",
       "</style>\n",
       "<table border=\"1\" class=\"dataframe\">\n",
       "  <thead>\n",
       "    <tr style=\"text-align: right;\">\n",
       "      <th></th>\n",
       "      <th>userId</th>\n",
       "      <th>movieId</th>\n",
       "      <th>rating</th>\n",
       "      <th>timestamp</th>\n",
       "    </tr>\n",
       "  </thead>\n",
       "  <tbody>\n",
       "    <tr>\n",
       "      <td>0</td>\n",
       "      <td>1</td>\n",
       "      <td>1</td>\n",
       "      <td>4.0</td>\n",
       "      <td>964982703</td>\n",
       "    </tr>\n",
       "    <tr>\n",
       "      <td>1</td>\n",
       "      <td>1</td>\n",
       "      <td>3</td>\n",
       "      <td>4.0</td>\n",
       "      <td>964981247</td>\n",
       "    </tr>\n",
       "    <tr>\n",
       "      <td>2</td>\n",
       "      <td>1</td>\n",
       "      <td>6</td>\n",
       "      <td>4.0</td>\n",
       "      <td>964982224</td>\n",
       "    </tr>\n",
       "    <tr>\n",
       "      <td>3</td>\n",
       "      <td>1</td>\n",
       "      <td>47</td>\n",
       "      <td>5.0</td>\n",
       "      <td>964983815</td>\n",
       "    </tr>\n",
       "    <tr>\n",
       "      <td>4</td>\n",
       "      <td>1</td>\n",
       "      <td>50</td>\n",
       "      <td>5.0</td>\n",
       "      <td>964982931</td>\n",
       "    </tr>\n",
       "  </tbody>\n",
       "</table>\n",
       "</div>"
      ],
      "text/plain": [
       "   userId  movieId  rating  timestamp\n",
       "0       1        1     4.0  964982703\n",
       "1       1        3     4.0  964981247\n",
       "2       1        6     4.0  964982224\n",
       "3       1       47     5.0  964983815\n",
       "4       1       50     5.0  964982931"
      ]
     },
     "execution_count": 12,
     "metadata": {},
     "output_type": "execute_result"
    }
   ],
   "source": [
    "avaliacoes = pd.read_csv('ratings.csv')\n",
    "avaliacoes.head()"
   ]
  },
  {
   "cell_type": "code",
   "execution_count": 13,
   "metadata": {},
   "outputs": [
    {
     "data": {
      "text/html": [
       "<div>\n",
       "<style scoped>\n",
       "    .dataframe tbody tr th:only-of-type {\n",
       "        vertical-align: middle;\n",
       "    }\n",
       "\n",
       "    .dataframe tbody tr th {\n",
       "        vertical-align: top;\n",
       "    }\n",
       "\n",
       "    .dataframe thead th {\n",
       "        text-align: right;\n",
       "    }\n",
       "</style>\n",
       "<table border=\"1\" class=\"dataframe\">\n",
       "  <thead>\n",
       "    <tr style=\"text-align: right;\">\n",
       "      <th></th>\n",
       "      <th>id_usuario</th>\n",
       "      <th>id_filme</th>\n",
       "      <th>nota_filme</th>\n",
       "    </tr>\n",
       "  </thead>\n",
       "  <tbody>\n",
       "    <tr>\n",
       "      <td>0</td>\n",
       "      <td>1</td>\n",
       "      <td>1</td>\n",
       "      <td>4.0</td>\n",
       "    </tr>\n",
       "    <tr>\n",
       "      <td>1</td>\n",
       "      <td>1</td>\n",
       "      <td>3</td>\n",
       "      <td>4.0</td>\n",
       "    </tr>\n",
       "    <tr>\n",
       "      <td>2</td>\n",
       "      <td>1</td>\n",
       "      <td>6</td>\n",
       "      <td>4.0</td>\n",
       "    </tr>\n",
       "    <tr>\n",
       "      <td>3</td>\n",
       "      <td>1</td>\n",
       "      <td>47</td>\n",
       "      <td>5.0</td>\n",
       "    </tr>\n",
       "    <tr>\n",
       "      <td>4</td>\n",
       "      <td>1</td>\n",
       "      <td>50</td>\n",
       "      <td>5.0</td>\n",
       "    </tr>\n",
       "  </tbody>\n",
       "</table>\n",
       "</div>"
      ],
      "text/plain": [
       "   id_usuario  id_filme  nota_filme\n",
       "0           1         1         4.0\n",
       "1           1         3         4.0\n",
       "2           1         6         4.0\n",
       "3           1        47         5.0\n",
       "4           1        50         5.0"
      ]
     },
     "execution_count": 13,
     "metadata": {},
     "output_type": "execute_result"
    }
   ],
   "source": [
    "avaliacoes = avaliacoes[['userId', 'movieId', 'rating']]\n",
    "avaliacoes.columns = ['id_usuario', 'id_filme', 'nota_filme']\n",
    "avaliacoes.head()"
   ]
  },
  {
   "cell_type": "code",
   "execution_count": 14,
   "metadata": {},
   "outputs": [
    {
     "data": {
      "text/html": [
       "<div>\n",
       "<style scoped>\n",
       "    .dataframe tbody tr th:only-of-type {\n",
       "        vertical-align: middle;\n",
       "    }\n",
       "\n",
       "    .dataframe tbody tr th {\n",
       "        vertical-align: top;\n",
       "    }\n",
       "\n",
       "    .dataframe thead th {\n",
       "        text-align: right;\n",
       "    }\n",
       "</style>\n",
       "<table border=\"1\" class=\"dataframe\">\n",
       "  <thead>\n",
       "    <tr style=\"text-align: right;\">\n",
       "      <th></th>\n",
       "      <th>id_usuario</th>\n",
       "      <th>id_filme</th>\n",
       "      <th>nota_filme</th>\n",
       "      <th>titulo</th>\n",
       "    </tr>\n",
       "  </thead>\n",
       "  <tbody>\n",
       "    <tr>\n",
       "      <td>0</td>\n",
       "      <td>1</td>\n",
       "      <td>1</td>\n",
       "      <td>4.0</td>\n",
       "      <td>Toy Story (1995)</td>\n",
       "    </tr>\n",
       "    <tr>\n",
       "      <td>1</td>\n",
       "      <td>5</td>\n",
       "      <td>1</td>\n",
       "      <td>4.0</td>\n",
       "      <td>Toy Story (1995)</td>\n",
       "    </tr>\n",
       "    <tr>\n",
       "      <td>2</td>\n",
       "      <td>7</td>\n",
       "      <td>1</td>\n",
       "      <td>4.5</td>\n",
       "      <td>Toy Story (1995)</td>\n",
       "    </tr>\n",
       "    <tr>\n",
       "      <td>3</td>\n",
       "      <td>15</td>\n",
       "      <td>1</td>\n",
       "      <td>2.5</td>\n",
       "      <td>Toy Story (1995)</td>\n",
       "    </tr>\n",
       "    <tr>\n",
       "      <td>4</td>\n",
       "      <td>17</td>\n",
       "      <td>1</td>\n",
       "      <td>4.5</td>\n",
       "      <td>Toy Story (1995)</td>\n",
       "    </tr>\n",
       "  </tbody>\n",
       "</table>\n",
       "</div>"
      ],
      "text/plain": [
       "   id_usuario  id_filme  nota_filme            titulo\n",
       "0           1         1         4.0  Toy Story (1995)\n",
       "1           5         1         4.0  Toy Story (1995)\n",
       "2           7         1         4.5  Toy Story (1995)\n",
       "3          15         1         2.5  Toy Story (1995)\n",
       "4          17         1         4.5  Toy Story (1995)"
      ]
     },
     "execution_count": 14,
     "metadata": {},
     "output_type": "execute_result"
    }
   ],
   "source": [
    "avaliacoes = avaliacoes.merge(filmes, on='id_filme')\n",
    "avaliacoes.head()"
   ]
  },
  {
   "cell_type": "code",
   "execution_count": 15,
   "metadata": {},
   "outputs": [
    {
     "data": {
      "text/plain": [
       "(993, 4)"
      ]
     },
     "execution_count": 15,
     "metadata": {},
     "output_type": "execute_result"
    }
   ],
   "source": [
    "# tamanho da tabela\n",
    "avaliacoes.shape"
   ]
  },
  {
   "cell_type": "code",
   "execution_count": 16,
   "metadata": {},
   "outputs": [
    {
     "data": {
      "text/plain": [
       "421"
      ]
     },
     "execution_count": 16,
     "metadata": {},
     "output_type": "execute_result"
    }
   ],
   "source": [
    "# numero de usuario\n",
    "avaliacoes.id_usuario.unique().shape[0]"
   ]
  },
  {
   "cell_type": "code",
   "execution_count": 17,
   "metadata": {},
   "outputs": [
    {
     "data": {
      "text/plain": [
       "7"
      ]
     },
     "execution_count": 17,
     "metadata": {},
     "output_type": "execute_result"
    }
   ],
   "source": [
    "# número de filmes\n",
    "avaliacoes.id_filme.unique().shape[0]"
   ]
  },
  {
   "cell_type": "code",
   "execution_count": 19,
   "metadata": {},
   "outputs": [
    {
     "data": {
      "text/plain": [
       "380    7\n",
       "414    7\n",
       "274    7\n",
       "534    6\n",
       "599    6\n",
       "      ..\n",
       "225    1\n",
       "224    1\n",
       "223    1\n",
       "222    1\n",
       "511    1\n",
       "Name: id_usuario, Length: 421, dtype: int64"
      ]
     },
     "execution_count": 19,
     "metadata": {},
     "output_type": "execute_result"
    }
   ],
   "source": [
    "# número de classificacao por usuário\n",
    "avaliacoes.id_usuario.value_counts()"
   ]
  },
  {
   "cell_type": "code",
   "execution_count": 20,
   "metadata": {},
   "outputs": [
    {
     "data": {
      "text/plain": [
       "(0.5, 5.0)"
      ]
     },
     "execution_count": 20,
     "metadata": {},
     "output_type": "execute_result"
    }
   ],
   "source": [
    "# nota mínima e máxima\n",
    "avaliacoes.nota_filme.min(), avaliacoes.nota_filme.max()"
   ]
  },
  {
   "cell_type": "code",
   "execution_count": 21,
   "metadata": {},
   "outputs": [
    {
     "data": {
      "text/html": [
       "<div>\n",
       "<style scoped>\n",
       "    .dataframe tbody tr th:only-of-type {\n",
       "        vertical-align: middle;\n",
       "    }\n",
       "\n",
       "    .dataframe tbody tr th {\n",
       "        vertical-align: top;\n",
       "    }\n",
       "\n",
       "    .dataframe thead th {\n",
       "        text-align: right;\n",
       "    }\n",
       "</style>\n",
       "<table border=\"1\" class=\"dataframe\">\n",
       "  <thead>\n",
       "    <tr style=\"text-align: right;\">\n",
       "      <th></th>\n",
       "      <th>id_usuario</th>\n",
       "      <th>id_filme</th>\n",
       "      <th>nota_filme</th>\n",
       "      <th>titulo</th>\n",
       "    </tr>\n",
       "  </thead>\n",
       "  <tbody>\n",
       "    <tr>\n",
       "      <td>0</td>\n",
       "      <td>1</td>\n",
       "      <td>1</td>\n",
       "      <td>4.0</td>\n",
       "      <td>Toy Story (1995)</td>\n",
       "    </tr>\n",
       "    <tr>\n",
       "      <td>2</td>\n",
       "      <td>7</td>\n",
       "      <td>1</td>\n",
       "      <td>4.5</td>\n",
       "      <td>Toy Story (1995)</td>\n",
       "    </tr>\n",
       "    <tr>\n",
       "      <td>212</td>\n",
       "      <td>608</td>\n",
       "      <td>1</td>\n",
       "      <td>2.5</td>\n",
       "      <td>Toy Story (1995)</td>\n",
       "    </tr>\n",
       "    <tr>\n",
       "      <td>214</td>\n",
       "      <td>610</td>\n",
       "      <td>1</td>\n",
       "      <td>5.0</td>\n",
       "      <td>Toy Story (1995)</td>\n",
       "    </tr>\n",
       "    <tr>\n",
       "      <td>215</td>\n",
       "      <td>1</td>\n",
       "      <td>1196</td>\n",
       "      <td>5.0</td>\n",
       "      <td>Star Wars: Episode V - The Empire Strikes Back...</td>\n",
       "    </tr>\n",
       "    <tr>\n",
       "      <td>217</td>\n",
       "      <td>7</td>\n",
       "      <td>1196</td>\n",
       "      <td>4.0</td>\n",
       "      <td>Star Wars: Episode V - The Empire Strikes Back...</td>\n",
       "    </tr>\n",
       "    <tr>\n",
       "      <td>424</td>\n",
       "      <td>608</td>\n",
       "      <td>1196</td>\n",
       "      <td>4.0</td>\n",
       "      <td>Star Wars: Episode V - The Empire Strikes Back...</td>\n",
       "    </tr>\n",
       "    <tr>\n",
       "      <td>425</td>\n",
       "      <td>610</td>\n",
       "      <td>1196</td>\n",
       "      <td>5.0</td>\n",
       "      <td>Star Wars: Episode V - The Empire Strikes Back...</td>\n",
       "    </tr>\n",
       "    <tr>\n",
       "      <td>426</td>\n",
       "      <td>1</td>\n",
       "      <td>1210</td>\n",
       "      <td>5.0</td>\n",
       "      <td>Star Wars: Episode VI - Return of the Jedi (1983)</td>\n",
       "    </tr>\n",
       "    <tr>\n",
       "      <td>427</td>\n",
       "      <td>7</td>\n",
       "      <td>1210</td>\n",
       "      <td>4.0</td>\n",
       "      <td>Star Wars: Episode VI - Return of the Jedi (1983)</td>\n",
       "    </tr>\n",
       "    <tr>\n",
       "      <td>620</td>\n",
       "      <td>608</td>\n",
       "      <td>1210</td>\n",
       "      <td>4.0</td>\n",
       "      <td>Star Wars: Episode VI - Return of the Jedi (1983)</td>\n",
       "    </tr>\n",
       "    <tr>\n",
       "      <td>621</td>\n",
       "      <td>610</td>\n",
       "      <td>1210</td>\n",
       "      <td>5.0</td>\n",
       "      <td>Star Wars: Episode VI - Return of the Jedi (1983)</td>\n",
       "    </tr>\n",
       "    <tr>\n",
       "      <td>653</td>\n",
       "      <td>371</td>\n",
       "      <td>1199</td>\n",
       "      <td>5.0</td>\n",
       "      <td>Brazil (1985)</td>\n",
       "    </tr>\n",
       "    <tr>\n",
       "      <td>680</td>\n",
       "      <td>610</td>\n",
       "      <td>1199</td>\n",
       "      <td>4.5</td>\n",
       "      <td>Brazil (1985)</td>\n",
       "    </tr>\n",
       "    <tr>\n",
       "      <td>681</td>\n",
       "      <td>7</td>\n",
       "      <td>4993</td>\n",
       "      <td>4.5</td>\n",
       "      <td>Lord of the Rings: The Fellowship of the Ring,...</td>\n",
       "    </tr>\n",
       "    <tr>\n",
       "      <td>796</td>\n",
       "      <td>371</td>\n",
       "      <td>4993</td>\n",
       "      <td>4.5</td>\n",
       "      <td>Lord of the Rings: The Fellowship of the Ring,...</td>\n",
       "    </tr>\n",
       "    <tr>\n",
       "      <td>877</td>\n",
       "      <td>608</td>\n",
       "      <td>4993</td>\n",
       "      <td>4.5</td>\n",
       "      <td>Lord of the Rings: The Fellowship of the Ring,...</td>\n",
       "    </tr>\n",
       "    <tr>\n",
       "      <td>878</td>\n",
       "      <td>610</td>\n",
       "      <td>4993</td>\n",
       "      <td>5.0</td>\n",
       "      <td>Lord of the Rings: The Fellowship of the Ring,...</td>\n",
       "    </tr>\n",
       "    <tr>\n",
       "      <td>924</td>\n",
       "      <td>608</td>\n",
       "      <td>44</td>\n",
       "      <td>0.5</td>\n",
       "      <td>Mortal Kombat (1995)</td>\n",
       "    </tr>\n",
       "    <tr>\n",
       "      <td>966</td>\n",
       "      <td>371</td>\n",
       "      <td>48</td>\n",
       "      <td>4.5</td>\n",
       "      <td>Pocahontas (1995)</td>\n",
       "    </tr>\n",
       "    <tr>\n",
       "      <td>992</td>\n",
       "      <td>608</td>\n",
       "      <td>48</td>\n",
       "      <td>0.5</td>\n",
       "      <td>Pocahontas (1995)</td>\n",
       "    </tr>\n",
       "  </tbody>\n",
       "</table>\n",
       "</div>"
      ],
      "text/plain": [
       "     id_usuario  id_filme  nota_filme  \\\n",
       "0             1         1         4.0   \n",
       "2             7         1         4.5   \n",
       "212         608         1         2.5   \n",
       "214         610         1         5.0   \n",
       "215           1      1196         5.0   \n",
       "217           7      1196         4.0   \n",
       "424         608      1196         4.0   \n",
       "425         610      1196         5.0   \n",
       "426           1      1210         5.0   \n",
       "427           7      1210         4.0   \n",
       "620         608      1210         4.0   \n",
       "621         610      1210         5.0   \n",
       "653         371      1199         5.0   \n",
       "680         610      1199         4.5   \n",
       "681           7      4993         4.5   \n",
       "796         371      4993         4.5   \n",
       "877         608      4993         4.5   \n",
       "878         610      4993         5.0   \n",
       "924         608        44         0.5   \n",
       "966         371        48         4.5   \n",
       "992         608        48         0.5   \n",
       "\n",
       "                                                titulo  \n",
       "0                                     Toy Story (1995)  \n",
       "2                                     Toy Story (1995)  \n",
       "212                                   Toy Story (1995)  \n",
       "214                                   Toy Story (1995)  \n",
       "215  Star Wars: Episode V - The Empire Strikes Back...  \n",
       "217  Star Wars: Episode V - The Empire Strikes Back...  \n",
       "424  Star Wars: Episode V - The Empire Strikes Back...  \n",
       "425  Star Wars: Episode V - The Empire Strikes Back...  \n",
       "426  Star Wars: Episode VI - Return of the Jedi (1983)  \n",
       "427  Star Wars: Episode VI - Return of the Jedi (1983)  \n",
       "620  Star Wars: Episode VI - Return of the Jedi (1983)  \n",
       "621  Star Wars: Episode VI - Return of the Jedi (1983)  \n",
       "653                                      Brazil (1985)  \n",
       "680                                      Brazil (1985)  \n",
       "681  Lord of the Rings: The Fellowship of the Ring,...  \n",
       "796  Lord of the Rings: The Fellowship of the Ring,...  \n",
       "877  Lord of the Rings: The Fellowship of the Ring,...  \n",
       "878  Lord of the Rings: The Fellowship of the Ring,...  \n",
       "924                               Mortal Kombat (1995)  \n",
       "966                                  Pocahontas (1995)  \n",
       "992                                  Pocahontas (1995)  "
      ]
     },
     "execution_count": 21,
     "metadata": {},
     "output_type": "execute_result"
    }
   ],
   "source": [
    "# redução da quantidade de usuário\n",
    "avaliacoes = avaliacoes.loc[avaliacoes.id_usuario.isin([1,7,371, 608,610])]\n",
    "avaliacoes"
   ]
  },
  {
   "cell_type": "code",
   "execution_count": 23,
   "metadata": {},
   "outputs": [
    {
     "data": {
      "text/plain": [
       "[1, 7, 608, 610, 371]"
      ]
     },
     "execution_count": 23,
     "metadata": {},
     "output_type": "execute_result"
    }
   ],
   "source": [
    "# guardando a informação de lista de usuários\n",
    "lista_usuario = list(avaliacoes.id_usuario.unique())\n",
    "lista_usuario"
   ]
  },
  {
   "cell_type": "markdown",
   "metadata": {},
   "source": [
    "#### 1 - Matriz de Score (usuário x item)"
   ]
  },
  {
   "cell_type": "code",
   "execution_count": 24,
   "metadata": {},
   "outputs": [
    {
     "data": {
      "text/html": [
       "<div>\n",
       "<style scoped>\n",
       "    .dataframe tbody tr th:only-of-type {\n",
       "        vertical-align: middle;\n",
       "    }\n",
       "\n",
       "    .dataframe tbody tr th {\n",
       "        vertical-align: top;\n",
       "    }\n",
       "\n",
       "    .dataframe thead th {\n",
       "        text-align: right;\n",
       "    }\n",
       "</style>\n",
       "<table border=\"1\" class=\"dataframe\">\n",
       "  <thead>\n",
       "    <tr style=\"text-align: right;\">\n",
       "      <th></th>\n",
       "      <th>Brazil (1985)</th>\n",
       "      <th>Lord of the Rings: The Fellowship of the Ring, The (2001)</th>\n",
       "      <th>Mortal Kombat (1995)</th>\n",
       "      <th>Pocahontas (1995)</th>\n",
       "      <th>Star Wars: Episode V - The Empire Strikes Back (1980)</th>\n",
       "      <th>Star Wars: Episode VI - Return of the Jedi (1983)</th>\n",
       "      <th>Toy Story (1995)</th>\n",
       "    </tr>\n",
       "    <tr>\n",
       "      <th>id_usuario</th>\n",
       "      <th></th>\n",
       "      <th></th>\n",
       "      <th></th>\n",
       "      <th></th>\n",
       "      <th></th>\n",
       "      <th></th>\n",
       "      <th></th>\n",
       "    </tr>\n",
       "  </thead>\n",
       "  <tbody>\n",
       "    <tr>\n",
       "      <td>1</td>\n",
       "      <td>NaN</td>\n",
       "      <td>NaN</td>\n",
       "      <td>NaN</td>\n",
       "      <td>NaN</td>\n",
       "      <td>5.0</td>\n",
       "      <td>5.0</td>\n",
       "      <td>4.0</td>\n",
       "    </tr>\n",
       "    <tr>\n",
       "      <td>7</td>\n",
       "      <td>NaN</td>\n",
       "      <td>4.5</td>\n",
       "      <td>NaN</td>\n",
       "      <td>NaN</td>\n",
       "      <td>4.0</td>\n",
       "      <td>4.0</td>\n",
       "      <td>4.5</td>\n",
       "    </tr>\n",
       "    <tr>\n",
       "      <td>371</td>\n",
       "      <td>5.0</td>\n",
       "      <td>4.5</td>\n",
       "      <td>NaN</td>\n",
       "      <td>4.5</td>\n",
       "      <td>NaN</td>\n",
       "      <td>NaN</td>\n",
       "      <td>NaN</td>\n",
       "    </tr>\n",
       "    <tr>\n",
       "      <td>608</td>\n",
       "      <td>NaN</td>\n",
       "      <td>4.5</td>\n",
       "      <td>0.5</td>\n",
       "      <td>0.5</td>\n",
       "      <td>4.0</td>\n",
       "      <td>4.0</td>\n",
       "      <td>2.5</td>\n",
       "    </tr>\n",
       "    <tr>\n",
       "      <td>610</td>\n",
       "      <td>4.5</td>\n",
       "      <td>5.0</td>\n",
       "      <td>NaN</td>\n",
       "      <td>NaN</td>\n",
       "      <td>5.0</td>\n",
       "      <td>5.0</td>\n",
       "      <td>5.0</td>\n",
       "    </tr>\n",
       "  </tbody>\n",
       "</table>\n",
       "</div>"
      ],
      "text/plain": [
       "            Brazil (1985)  \\\n",
       "id_usuario                  \n",
       "1                     NaN   \n",
       "7                     NaN   \n",
       "371                   5.0   \n",
       "608                   NaN   \n",
       "610                   4.5   \n",
       "\n",
       "            Lord of the Rings: The Fellowship of the Ring, The (2001)  \\\n",
       "id_usuario                                                              \n",
       "1                                                         NaN           \n",
       "7                                                         4.5           \n",
       "371                                                       4.5           \n",
       "608                                                       4.5           \n",
       "610                                                       5.0           \n",
       "\n",
       "            Mortal Kombat (1995)  Pocahontas (1995)  \\\n",
       "id_usuario                                            \n",
       "1                            NaN                NaN   \n",
       "7                            NaN                NaN   \n",
       "371                          NaN                4.5   \n",
       "608                          0.5                0.5   \n",
       "610                          NaN                NaN   \n",
       "\n",
       "            Star Wars: Episode V - The Empire Strikes Back (1980)  \\\n",
       "id_usuario                                                          \n",
       "1                                                         5.0       \n",
       "7                                                         4.0       \n",
       "371                                                       NaN       \n",
       "608                                                       4.0       \n",
       "610                                                       5.0       \n",
       "\n",
       "            Star Wars: Episode VI - Return of the Jedi (1983)  \\\n",
       "id_usuario                                                      \n",
       "1                                                         5.0   \n",
       "7                                                         4.0   \n",
       "371                                                       NaN   \n",
       "608                                                       4.0   \n",
       "610                                                       5.0   \n",
       "\n",
       "            Toy Story (1995)  \n",
       "id_usuario                    \n",
       "1                        4.0  \n",
       "7                        4.5  \n",
       "371                      NaN  \n",
       "608                      2.5  \n",
       "610                      5.0  "
      ]
     },
     "execution_count": 24,
     "metadata": {},
     "output_type": "execute_result"
    }
   ],
   "source": [
    "# matriz de avaliações usuário x itens\n",
    "scores = avaliacoes.pivot_table(index = ['id_usuario'], values = ['nota_filme'], columns = ['titulo'])\n",
    "scores.columns = scores.columns.droplevel(0)\n",
    "scores = scores.rename_axis(None, axis=1)\n",
    "scores.rename(columns={'':'id_usuario'}, inplace=True)\n",
    "scores"
   ]
  },
  {
   "cell_type": "code",
   "execution_count": 25,
   "metadata": {},
   "outputs": [
    {
     "data": {
      "text/html": [
       "<div>\n",
       "<style scoped>\n",
       "    .dataframe tbody tr th:only-of-type {\n",
       "        vertical-align: middle;\n",
       "    }\n",
       "\n",
       "    .dataframe tbody tr th {\n",
       "        vertical-align: top;\n",
       "    }\n",
       "\n",
       "    .dataframe thead th {\n",
       "        text-align: right;\n",
       "    }\n",
       "</style>\n",
       "<table border=\"1\" class=\"dataframe\">\n",
       "  <thead>\n",
       "    <tr style=\"text-align: right;\">\n",
       "      <th></th>\n",
       "      <th>Brazil (1985)</th>\n",
       "      <th>Lord of the Rings: The Fellowship of the Ring, The (2001)</th>\n",
       "      <th>Mortal Kombat (1995)</th>\n",
       "      <th>Pocahontas (1995)</th>\n",
       "      <th>Star Wars: Episode V - The Empire Strikes Back (1980)</th>\n",
       "      <th>Star Wars: Episode VI - Return of the Jedi (1983)</th>\n",
       "      <th>Toy Story (1995)</th>\n",
       "    </tr>\n",
       "    <tr>\n",
       "      <th>id_usuario</th>\n",
       "      <th></th>\n",
       "      <th></th>\n",
       "      <th></th>\n",
       "      <th></th>\n",
       "      <th></th>\n",
       "      <th></th>\n",
       "      <th></th>\n",
       "    </tr>\n",
       "  </thead>\n",
       "  <tbody>\n",
       "    <tr>\n",
       "      <td>1</td>\n",
       "      <td>0.0</td>\n",
       "      <td>0.0</td>\n",
       "      <td>0.0</td>\n",
       "      <td>0.0</td>\n",
       "      <td>5.0</td>\n",
       "      <td>5.0</td>\n",
       "      <td>4.0</td>\n",
       "    </tr>\n",
       "    <tr>\n",
       "      <td>7</td>\n",
       "      <td>0.0</td>\n",
       "      <td>4.5</td>\n",
       "      <td>0.0</td>\n",
       "      <td>0.0</td>\n",
       "      <td>4.0</td>\n",
       "      <td>4.0</td>\n",
       "      <td>4.5</td>\n",
       "    </tr>\n",
       "    <tr>\n",
       "      <td>371</td>\n",
       "      <td>5.0</td>\n",
       "      <td>4.5</td>\n",
       "      <td>0.0</td>\n",
       "      <td>4.5</td>\n",
       "      <td>0.0</td>\n",
       "      <td>0.0</td>\n",
       "      <td>0.0</td>\n",
       "    </tr>\n",
       "    <tr>\n",
       "      <td>608</td>\n",
       "      <td>0.0</td>\n",
       "      <td>4.5</td>\n",
       "      <td>0.5</td>\n",
       "      <td>0.5</td>\n",
       "      <td>4.0</td>\n",
       "      <td>4.0</td>\n",
       "      <td>2.5</td>\n",
       "    </tr>\n",
       "    <tr>\n",
       "      <td>610</td>\n",
       "      <td>4.5</td>\n",
       "      <td>5.0</td>\n",
       "      <td>0.0</td>\n",
       "      <td>0.0</td>\n",
       "      <td>5.0</td>\n",
       "      <td>5.0</td>\n",
       "      <td>5.0</td>\n",
       "    </tr>\n",
       "  </tbody>\n",
       "</table>\n",
       "</div>"
      ],
      "text/plain": [
       "            Brazil (1985)  \\\n",
       "id_usuario                  \n",
       "1                     0.0   \n",
       "7                     0.0   \n",
       "371                   5.0   \n",
       "608                   0.0   \n",
       "610                   4.5   \n",
       "\n",
       "            Lord of the Rings: The Fellowship of the Ring, The (2001)  \\\n",
       "id_usuario                                                              \n",
       "1                                                         0.0           \n",
       "7                                                         4.5           \n",
       "371                                                       4.5           \n",
       "608                                                       4.5           \n",
       "610                                                       5.0           \n",
       "\n",
       "            Mortal Kombat (1995)  Pocahontas (1995)  \\\n",
       "id_usuario                                            \n",
       "1                            0.0                0.0   \n",
       "7                            0.0                0.0   \n",
       "371                          0.0                4.5   \n",
       "608                          0.5                0.5   \n",
       "610                          0.0                0.0   \n",
       "\n",
       "            Star Wars: Episode V - The Empire Strikes Back (1980)  \\\n",
       "id_usuario                                                          \n",
       "1                                                         5.0       \n",
       "7                                                         4.0       \n",
       "371                                                       0.0       \n",
       "608                                                       4.0       \n",
       "610                                                       5.0       \n",
       "\n",
       "            Star Wars: Episode VI - Return of the Jedi (1983)  \\\n",
       "id_usuario                                                      \n",
       "1                                                         5.0   \n",
       "7                                                         4.0   \n",
       "371                                                       0.0   \n",
       "608                                                       4.0   \n",
       "610                                                       5.0   \n",
       "\n",
       "            Toy Story (1995)  \n",
       "id_usuario                    \n",
       "1                        4.0  \n",
       "7                        4.5  \n",
       "371                      0.0  \n",
       "608                      2.5  \n",
       "610                      5.0  "
      ]
     },
     "execution_count": 25,
     "metadata": {},
     "output_type": "execute_result"
    }
   ],
   "source": [
    "scores = scores.fillna(0)\n",
    "scores"
   ]
  },
  {
   "cell_type": "code",
   "execution_count": 26,
   "metadata": {},
   "outputs": [
    {
     "data": {
      "text/plain": [
       "['Brazil (1985)',\n",
       " 'Lord of the Rings: The Fellowship of the Ring, The (2001)',\n",
       " 'Mortal Kombat (1995)',\n",
       " 'Pocahontas (1995)',\n",
       " 'Star Wars: Episode V - The Empire Strikes Back (1980)',\n",
       " 'Star Wars: Episode VI - Return of the Jedi (1983)',\n",
       " 'Toy Story (1995)']"
      ]
     },
     "execution_count": 26,
     "metadata": {},
     "output_type": "execute_result"
    }
   ],
   "source": [
    "# guardando a informação de lista de itens\n",
    "lista_itens = list(scores.columns)\n",
    "lista_itens"
   ]
  },
  {
   "cell_type": "code",
   "execution_count": 27,
   "metadata": {},
   "outputs": [
    {
     "data": {
      "text/plain": [
       "array([[0. , 0. , 0. , 0. , 5. , 5. , 4. ],\n",
       "       [0. , 4.5, 0. , 0. , 4. , 4. , 4.5],\n",
       "       [5. , 4.5, 0. , 4.5, 0. , 0. , 0. ],\n",
       "       [0. , 4.5, 0.5, 0.5, 4. , 4. , 2.5],\n",
       "       [4.5, 5. , 0. , 0. , 5. , 5. , 5. ]])"
      ]
     },
     "execution_count": 27,
     "metadata": {},
     "output_type": "execute_result"
    }
   ],
   "source": [
    "matriz_scores = scores.to_numpy()\n",
    "matriz_scores"
   ]
  },
  {
   "cell_type": "markdown",
   "metadata": {},
   "source": [
    "#### 2 - Matriz de similaridade (usuário x usuário)"
   ]
  },
  {
   "cell_type": "code",
   "execution_count": 28,
   "metadata": {},
   "outputs": [],
   "source": [
    "def distancia(a, b):\n",
    "    zip_b = zip(*b)\n",
    "    resultado = []\n",
    "    quadrado_diferenca = 0\n",
    "\n",
    "    for row_a in a:\n",
    "        for col_b in zip_b:\n",
    "            soma = 0\n",
    "            for nota_a, nota_b in zip(row_a, col_b):\n",
    "                if (nota_a !=0) & (nota_b !=0):                   \n",
    "                    quadrado_diferenca = pow(nota_b-nota_a, 2)\n",
    "                    soma += quadrado_diferenca\n",
    "            if soma > 0:\n",
    "                d = 1/(1 + sqrt(soma))\n",
    "            if soma == 0:\n",
    "                d = 1\n",
    "            resultado.append(d)\n",
    "    return resultado                                                       "
   ]
  },
  {
   "cell_type": "code",
   "execution_count": 29,
   "metadata": {},
   "outputs": [
    {
     "data": {
      "text/plain": [
       "[1, 0.4, 1, 0.3266316347104093, 0.5]"
      ]
     },
     "execution_count": 29,
     "metadata": {},
     "output_type": "execute_result"
    }
   ],
   "source": [
    "#teste com um usuário\n",
    "score_usuario_1 = scores.loc[[scores.index[0]]].to_numpy()\n",
    "\n",
    "sim_usu1_demais = distancia(score_usuario_1, matriz_scores.T)     \n",
    "sim_usu1_demais"
   ]
  },
  {
   "cell_type": "code",
   "execution_count": 30,
   "metadata": {},
   "outputs": [],
   "source": [
    "def similaridade(scores):\n",
    "    i = 0\n",
    "    for usuario in list(scores.index):\n",
    "        scores_usuario = scores.loc[[usuario]].to_numpy()\n",
    "        \n",
    "        matriz_scores = scores.to_numpy()\n",
    "        \n",
    "        resultado = distancia(scores_usuario, matriz_scores.T)     \n",
    "        if i == 0:\n",
    "            base_similaridade = pd.DataFrame(resultado, index = list(scores.index), columns = [usuario])\n",
    "        else:\n",
    "            temp = pd.DataFrame(resultado, index = list(scores.index), columns = [usuario])\n",
    "            base_similaridade = pd.concat([base_similaridade, temp], axis=1)\n",
    "        i = i + 1\n",
    "    return base_similaridade"
   ]
  },
  {
   "cell_type": "code",
   "execution_count": 31,
   "metadata": {},
   "outputs": [
    {
     "data": {
      "text/html": [
       "<div>\n",
       "<style scoped>\n",
       "    .dataframe tbody tr th:only-of-type {\n",
       "        vertical-align: middle;\n",
       "    }\n",
       "\n",
       "    .dataframe tbody tr th {\n",
       "        vertical-align: top;\n",
       "    }\n",
       "\n",
       "    .dataframe thead th {\n",
       "        text-align: right;\n",
       "    }\n",
       "</style>\n",
       "<table border=\"1\" class=\"dataframe\">\n",
       "  <thead>\n",
       "    <tr style=\"text-align: right;\">\n",
       "      <th></th>\n",
       "      <th>1</th>\n",
       "      <th>7</th>\n",
       "      <th>371</th>\n",
       "      <th>608</th>\n",
       "      <th>610</th>\n",
       "    </tr>\n",
       "  </thead>\n",
       "  <tbody>\n",
       "    <tr>\n",
       "      <td>1</td>\n",
       "      <td>1.000000</td>\n",
       "      <td>0.400000</td>\n",
       "      <td>1.000000</td>\n",
       "      <td>0.326632</td>\n",
       "      <td>0.500000</td>\n",
       "    </tr>\n",
       "    <tr>\n",
       "      <td>7</td>\n",
       "      <td>0.400000</td>\n",
       "      <td>1.000000</td>\n",
       "      <td>1.000000</td>\n",
       "      <td>0.333333</td>\n",
       "      <td>0.387426</td>\n",
       "    </tr>\n",
       "    <tr>\n",
       "      <td>371</td>\n",
       "      <td>1.000000</td>\n",
       "      <td>1.000000</td>\n",
       "      <td>1.000000</td>\n",
       "      <td>0.200000</td>\n",
       "      <td>0.585786</td>\n",
       "    </tr>\n",
       "    <tr>\n",
       "      <td>608</td>\n",
       "      <td>0.326632</td>\n",
       "      <td>0.333333</td>\n",
       "      <td>0.200000</td>\n",
       "      <td>1.000000</td>\n",
       "      <td>0.255397</td>\n",
       "    </tr>\n",
       "    <tr>\n",
       "      <td>610</td>\n",
       "      <td>0.500000</td>\n",
       "      <td>0.387426</td>\n",
       "      <td>0.585786</td>\n",
       "      <td>0.255397</td>\n",
       "      <td>1.000000</td>\n",
       "    </tr>\n",
       "  </tbody>\n",
       "</table>\n",
       "</div>"
      ],
      "text/plain": [
       "          1         7         371       608       610\n",
       "1    1.000000  0.400000  1.000000  0.326632  0.500000\n",
       "7    0.400000  1.000000  1.000000  0.333333  0.387426\n",
       "371  1.000000  1.000000  1.000000  0.200000  0.585786\n",
       "608  0.326632  0.333333  0.200000  1.000000  0.255397\n",
       "610  0.500000  0.387426  0.585786  0.255397  1.000000"
      ]
     },
     "execution_count": 31,
     "metadata": {},
     "output_type": "execute_result"
    }
   ],
   "source": [
    "base_similaridade = similaridade(scores)\n",
    "base_similaridade"
   ]
  },
  {
   "cell_type": "code",
   "execution_count": 32,
   "metadata": {},
   "outputs": [
    {
     "data": {
      "text/plain": [
       "array([[0.        , 0.4       , 1.        , 0.32663163, 0.5       ],\n",
       "       [0.4       , 0.        , 1.        , 0.33333333, 0.38742589],\n",
       "       [1.        , 1.        , 0.        , 0.2       , 0.58578644],\n",
       "       [0.32663163, 0.33333333, 0.2       , 0.        , 0.25539679],\n",
       "       [0.5       , 0.38742589, 0.58578644, 0.25539679, 0.        ]])"
      ]
     },
     "execution_count": 32,
     "metadata": {},
     "output_type": "execute_result"
    }
   ],
   "source": [
    "matriz_similaridade = base_similaridade.to_numpy()\n",
    "# resolvendo o problema da diagonal principal\n",
    "np.fill_diagonal(matriz_similaridade, 0)\n",
    "matriz_similaridade"
   ]
  },
  {
   "cell_type": "markdown",
   "metadata": {},
   "source": [
    "#### 3 - Recomendação"
   ]
  },
  {
   "cell_type": "code",
   "execution_count": 33,
   "metadata": {},
   "outputs": [
    {
     "data": {
      "text/plain": [
       "array([[0. , 0. , 0. , 0. , 5. , 5. , 4. ],\n",
       "       [0. , 4.5, 0. , 0. , 4. , 4. , 4.5],\n",
       "       [5. , 4.5, 0. , 4.5, 0. , 0. , 0. ],\n",
       "       [0. , 4.5, 0.5, 0.5, 4. , 4. , 2.5],\n",
       "       [4.5, 5. , 0. , 0. , 5. , 5. , 5. ]])"
      ]
     },
     "execution_count": 33,
     "metadata": {},
     "output_type": "execute_result"
    }
   ],
   "source": [
    "matriz_scores"
   ]
  },
  {
   "cell_type": "code",
   "execution_count": 34,
   "metadata": {},
   "outputs": [
    {
     "data": {
      "text/plain": [
       "array([[ 7.25      , 10.26984236,  0.16331582,  4.66331582,  5.40652654,\n",
       "         5.40652654,  5.11657909],\n",
       "       [ 6.74341649,  7.93712943,  0.16666667,  4.66666667,  5.27046277,\n",
       "         5.27046277,  4.37046277],\n",
       "       [ 2.63603897,  8.32893219,  0.1       ,  0.1       , 12.72893219,\n",
       "        12.72893219, 11.92893219],\n",
       "       [ 2.14928557,  3.67698396,  0.        ,  0.9       ,  4.24347547,\n",
       "         4.24347547,  4.0835105 ],\n",
       "       [ 2.92893219,  5.52874103,  0.1276984 ,  2.76373737,  5.07129072,\n",
       "         5.07129072,  4.38190847]])"
      ]
     },
     "execution_count": 34,
     "metadata": {},
     "output_type": "execute_result"
    }
   ],
   "source": [
    "soma_similares = np.dot(matriz_similaridade, matriz_scores)\n",
    "soma_similares"
   ]
  },
  {
   "cell_type": "code",
   "execution_count": 35,
   "metadata": {},
   "outputs": [
    {
     "data": {
      "text/plain": [
       "array([[0., 0., 0., 0., 1., 1., 1.],\n",
       "       [0., 1., 0., 0., 1., 1., 1.],\n",
       "       [1., 1., 0., 1., 0., 0., 0.],\n",
       "       [0., 1., 1., 1., 1., 1., 1.],\n",
       "       [1., 1., 0., 0., 1., 1., 1.]])"
      ]
     },
     "execution_count": 35,
     "metadata": {},
     "output_type": "execute_result"
    }
   ],
   "source": [
    "matriz_scores_aux = np.copy(matriz_scores)    \n",
    "matriz_scores_aux[matriz_scores > 0] = 1\n",
    "matriz_scores_aux"
   ]
  },
  {
   "cell_type": "code",
   "execution_count": 36,
   "metadata": {},
   "outputs": [
    {
     "data": {
      "text/plain": [
       "array([[1.5       , 2.22663163, 0.32663163, 1.32663163, 1.22663163,\n",
       "        1.22663163, 1.22663163],\n",
       "       [1.38742589, 1.72075922, 0.33333333, 1.33333333, 1.12075922,\n",
       "        1.12075922, 1.12075922],\n",
       "       [0.58578644, 1.78578644, 0.2       , 0.2       , 2.78578644,\n",
       "        2.78578644, 2.78578644],\n",
       "       [0.45539679, 0.78873013, 0.        , 0.2       , 0.91536176,\n",
       "        0.91536176, 0.91536176],\n",
       "       [0.58578644, 1.22860912, 0.25539679, 0.84118323, 1.14282268,\n",
       "        1.14282268, 1.14282268]])"
      ]
     },
     "execution_count": 36,
     "metadata": {},
     "output_type": "execute_result"
    }
   ],
   "source": [
    "soma_pesos = np.dot(matriz_similaridade, matriz_scores_aux)\n",
    "soma_pesos"
   ]
  },
  {
   "cell_type": "code",
   "execution_count": 37,
   "metadata": {},
   "outputs": [
    {
     "name": "stderr",
     "output_type": "stream",
     "text": [
      "C:\\Users\\Home\\AppData\\Local\\Continuum\\anaconda3\\lib\\site-packages\\ipykernel_launcher.py:1: RuntimeWarning: invalid value encountered in true_divide\n",
      "  \"\"\"Entry point for launching an IPython kernel.\n"
     ]
    },
    {
     "data": {
      "text/plain": [
       "array([[4.83, 4.61, 0.5 , 3.52, 4.41, 4.41, 4.17],\n",
       "       [4.86, 4.61, 0.5 , 3.5 , 4.7 , 4.7 , 3.9 ],\n",
       "       [4.5 , 4.66, 0.5 , 0.5 , 4.57, 4.57, 4.28],\n",
       "       [4.72, 4.66,  nan, 4.5 , 4.64, 4.64, 4.46],\n",
       "       [5.  , 4.5 , 0.5 , 3.29, 4.44, 4.44, 3.83]])"
      ]
     },
     "execution_count": 37,
     "metadata": {},
     "output_type": "execute_result"
    }
   ],
   "source": [
    "recomendacao = np.around(np.divide(soma_similares, soma_pesos), decimals=2)\n",
    "recomendacao"
   ]
  },
  {
   "cell_type": "code",
   "execution_count": 38,
   "metadata": {},
   "outputs": [
    {
     "data": {
      "text/plain": [
       "array([[4.83, 4.61, 0.5 , 3.52, 0.  , 0.  , 0.  ],\n",
       "       [4.86, 0.  , 0.5 , 3.5 , 0.  , 0.  , 0.  ],\n",
       "       [0.  , 0.  , 0.5 , 0.  , 4.57, 4.57, 4.28],\n",
       "       [4.72, 0.  , 0.  , 0.  , 0.  , 0.  , 0.  ],\n",
       "       [0.  , 0.  , 0.5 , 3.29, 0.  , 0.  , 0.  ]])"
      ]
     },
     "execution_count": 38,
     "metadata": {},
     "output_type": "execute_result"
    }
   ],
   "source": [
    "# selecionar somente as notas q foram preditas\n",
    "recomendacao[matriz_scores_aux == 1] = 0\n",
    "recomendacao"
   ]
  },
  {
   "cell_type": "code",
   "execution_count": 39,
   "metadata": {},
   "outputs": [
    {
     "data": {
      "text/html": [
       "<div>\n",
       "<style scoped>\n",
       "    .dataframe tbody tr th:only-of-type {\n",
       "        vertical-align: middle;\n",
       "    }\n",
       "\n",
       "    .dataframe tbody tr th {\n",
       "        vertical-align: top;\n",
       "    }\n",
       "\n",
       "    .dataframe thead th {\n",
       "        text-align: right;\n",
       "    }\n",
       "</style>\n",
       "<table border=\"1\" class=\"dataframe\">\n",
       "  <thead>\n",
       "    <tr style=\"text-align: right;\">\n",
       "      <th></th>\n",
       "      <th>Brazil (1985)</th>\n",
       "      <th>Lord of the Rings: The Fellowship of the Ring, The (2001)</th>\n",
       "      <th>Mortal Kombat (1995)</th>\n",
       "      <th>Pocahontas (1995)</th>\n",
       "      <th>Star Wars: Episode V - The Empire Strikes Back (1980)</th>\n",
       "      <th>Star Wars: Episode VI - Return of the Jedi (1983)</th>\n",
       "      <th>Toy Story (1995)</th>\n",
       "    </tr>\n",
       "  </thead>\n",
       "  <tbody>\n",
       "    <tr>\n",
       "      <td>1</td>\n",
       "      <td>4.83</td>\n",
       "      <td>4.61</td>\n",
       "      <td>0.5</td>\n",
       "      <td>3.52</td>\n",
       "      <td>0.00</td>\n",
       "      <td>0.00</td>\n",
       "      <td>0.00</td>\n",
       "    </tr>\n",
       "    <tr>\n",
       "      <td>7</td>\n",
       "      <td>4.86</td>\n",
       "      <td>0.00</td>\n",
       "      <td>0.5</td>\n",
       "      <td>3.50</td>\n",
       "      <td>0.00</td>\n",
       "      <td>0.00</td>\n",
       "      <td>0.00</td>\n",
       "    </tr>\n",
       "    <tr>\n",
       "      <td>608</td>\n",
       "      <td>0.00</td>\n",
       "      <td>0.00</td>\n",
       "      <td>0.5</td>\n",
       "      <td>0.00</td>\n",
       "      <td>4.57</td>\n",
       "      <td>4.57</td>\n",
       "      <td>4.28</td>\n",
       "    </tr>\n",
       "    <tr>\n",
       "      <td>610</td>\n",
       "      <td>4.72</td>\n",
       "      <td>0.00</td>\n",
       "      <td>0.0</td>\n",
       "      <td>0.00</td>\n",
       "      <td>0.00</td>\n",
       "      <td>0.00</td>\n",
       "      <td>0.00</td>\n",
       "    </tr>\n",
       "    <tr>\n",
       "      <td>371</td>\n",
       "      <td>0.00</td>\n",
       "      <td>0.00</td>\n",
       "      <td>0.5</td>\n",
       "      <td>3.29</td>\n",
       "      <td>0.00</td>\n",
       "      <td>0.00</td>\n",
       "      <td>0.00</td>\n",
       "    </tr>\n",
       "  </tbody>\n",
       "</table>\n",
       "</div>"
      ],
      "text/plain": [
       "     Brazil (1985)  Lord of the Rings: The Fellowship of the Ring, The (2001)  \\\n",
       "1             4.83                                               4.61           \n",
       "7             4.86                                               0.00           \n",
       "608           0.00                                               0.00           \n",
       "610           4.72                                               0.00           \n",
       "371           0.00                                               0.00           \n",
       "\n",
       "     Mortal Kombat (1995)  Pocahontas (1995)  \\\n",
       "1                     0.5               3.52   \n",
       "7                     0.5               3.50   \n",
       "608                   0.5               0.00   \n",
       "610                   0.0               0.00   \n",
       "371                   0.5               3.29   \n",
       "\n",
       "     Star Wars: Episode V - The Empire Strikes Back (1980)  \\\n",
       "1                                                 0.00       \n",
       "7                                                 0.00       \n",
       "608                                               4.57       \n",
       "610                                               0.00       \n",
       "371                                               0.00       \n",
       "\n",
       "     Star Wars: Episode VI - Return of the Jedi (1983)  Toy Story (1995)  \n",
       "1                                                 0.00              0.00  \n",
       "7                                                 0.00              0.00  \n",
       "608                                               4.57              4.28  \n",
       "610                                               0.00              0.00  \n",
       "371                                               0.00              0.00  "
      ]
     },
     "execution_count": 39,
     "metadata": {},
     "output_type": "execute_result"
    }
   ],
   "source": [
    "recomendacao = pd.DataFrame(recomendacao, index = lista_usuario, columns = lista_itens)\n",
    "recomendacao"
   ]
  },
  {
   "cell_type": "code",
   "execution_count": 40,
   "metadata": {},
   "outputs": [
    {
     "data": {
      "text/html": [
       "<div>\n",
       "<style scoped>\n",
       "    .dataframe tbody tr th:only-of-type {\n",
       "        vertical-align: middle;\n",
       "    }\n",
       "\n",
       "    .dataframe tbody tr th {\n",
       "        vertical-align: top;\n",
       "    }\n",
       "\n",
       "    .dataframe thead th {\n",
       "        text-align: right;\n",
       "    }\n",
       "</style>\n",
       "<table border=\"1\" class=\"dataframe\">\n",
       "  <thead>\n",
       "    <tr style=\"text-align: right;\">\n",
       "      <th></th>\n",
       "      <th>Brazil (1985)</th>\n",
       "      <th>Lord of the Rings: The Fellowship of the Ring, The (2001)</th>\n",
       "      <th>Mortal Kombat (1995)</th>\n",
       "      <th>Pocahontas (1995)</th>\n",
       "      <th>Star Wars: Episode V - The Empire Strikes Back (1980)</th>\n",
       "      <th>Star Wars: Episode VI - Return of the Jedi (1983)</th>\n",
       "      <th>Toy Story (1995)</th>\n",
       "    </tr>\n",
       "  </thead>\n",
       "  <tbody>\n",
       "    <tr>\n",
       "      <td>1</td>\n",
       "      <td>4.83</td>\n",
       "      <td>4.61</td>\n",
       "      <td>0.5</td>\n",
       "      <td>3.52</td>\n",
       "      <td>5.00</td>\n",
       "      <td>5.00</td>\n",
       "      <td>4.00</td>\n",
       "    </tr>\n",
       "    <tr>\n",
       "      <td>7</td>\n",
       "      <td>4.86</td>\n",
       "      <td>4.50</td>\n",
       "      <td>0.5</td>\n",
       "      <td>3.50</td>\n",
       "      <td>4.00</td>\n",
       "      <td>4.00</td>\n",
       "      <td>4.50</td>\n",
       "    </tr>\n",
       "    <tr>\n",
       "      <td>608</td>\n",
       "      <td>5.00</td>\n",
       "      <td>4.50</td>\n",
       "      <td>0.5</td>\n",
       "      <td>4.50</td>\n",
       "      <td>4.57</td>\n",
       "      <td>4.57</td>\n",
       "      <td>4.28</td>\n",
       "    </tr>\n",
       "    <tr>\n",
       "      <td>610</td>\n",
       "      <td>4.72</td>\n",
       "      <td>4.50</td>\n",
       "      <td>0.5</td>\n",
       "      <td>0.50</td>\n",
       "      <td>4.00</td>\n",
       "      <td>4.00</td>\n",
       "      <td>2.50</td>\n",
       "    </tr>\n",
       "    <tr>\n",
       "      <td>371</td>\n",
       "      <td>4.50</td>\n",
       "      <td>5.00</td>\n",
       "      <td>0.5</td>\n",
       "      <td>3.29</td>\n",
       "      <td>5.00</td>\n",
       "      <td>5.00</td>\n",
       "      <td>5.00</td>\n",
       "    </tr>\n",
       "  </tbody>\n",
       "</table>\n",
       "</div>"
      ],
      "text/plain": [
       "     Brazil (1985)  Lord of the Rings: The Fellowship of the Ring, The (2001)  \\\n",
       "1             4.83                                               4.61           \n",
       "7             4.86                                               4.50           \n",
       "608           5.00                                               4.50           \n",
       "610           4.72                                               4.50           \n",
       "371           4.50                                               5.00           \n",
       "\n",
       "     Mortal Kombat (1995)  Pocahontas (1995)  \\\n",
       "1                     0.5               3.52   \n",
       "7                     0.5               3.50   \n",
       "608                   0.5               4.50   \n",
       "610                   0.5               0.50   \n",
       "371                   0.5               3.29   \n",
       "\n",
       "     Star Wars: Episode V - The Empire Strikes Back (1980)  \\\n",
       "1                                                 5.00       \n",
       "7                                                 4.00       \n",
       "608                                               4.57       \n",
       "610                                               4.00       \n",
       "371                                               5.00       \n",
       "\n",
       "     Star Wars: Episode VI - Return of the Jedi (1983)  Toy Story (1995)  \n",
       "1                                                 5.00              4.00  \n",
       "7                                                 4.00              4.50  \n",
       "608                                               4.57              4.28  \n",
       "610                                               4.00              2.50  \n",
       "371                                               5.00              5.00  "
      ]
     },
     "execution_count": 40,
     "metadata": {},
     "output_type": "execute_result"
    }
   ],
   "source": [
    "# trazendo as notas ja classificadas\n",
    "recomendacao[matriz_scores_aux == 1] = matriz_scores\n",
    "recomendacao"
   ]
  },
  {
   "cell_type": "markdown",
   "metadata": {},
   "source": [
    "#### Método alternativo do Passo 2 : Matriz de similaridade (para gerar similaridade entre todos os usuários da base)"
   ]
  },
  {
   "cell_type": "code",
   "execution_count": 41,
   "metadata": {},
   "outputs": [
    {
     "data": {
      "text/plain": [
       "array([[0.        , 0.16153098, 1.        , 0.19874264, 0.21425156],\n",
       "       [0.16153098, 0.        , 0.70614345, 0.02909058, 0.08965213],\n",
       "       [1.        , 0.70614345, 0.        , 0.6380606 , 0.49295171],\n",
       "       [0.19874264, 0.02909058, 0.6380606 , 0.        , 0.10958449],\n",
       "       [0.21425156, 0.08965213, 0.49295171, 0.10958449, 0.        ]])"
      ]
     },
     "execution_count": 41,
     "metadata": {},
     "output_type": "execute_result"
    }
   ],
   "source": [
    "#metodo alternativo para rodar todo o conjunto de dados\n",
    "from sklearn.metrics.pairwise import pairwise_distances \n",
    "matriz_similaridade = pairwise_distances(matriz_scores, metric='cosine')\n",
    "matriz_similaridade"
   ]
  }
 ],
 "metadata": {
  "kernelspec": {
   "display_name": "Python 3",
   "language": "python",
   "name": "python3"
  },
  "language_info": {
   "codemirror_mode": {
    "name": "ipython",
    "version": 3
   },
   "file_extension": ".py",
   "mimetype": "text/x-python",
   "name": "python",
   "nbconvert_exporter": "python",
   "pygments_lexer": "ipython3",
   "version": "3.7.4"
  }
 },
 "nbformat": 4,
 "nbformat_minor": 2
}
